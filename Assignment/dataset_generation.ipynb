{
 "cells": [
  {
   "cell_type": "code",
   "execution_count": 1,
   "metadata": {},
   "outputs": [],
   "source": [
    "import numpy as np\n",
    "import pandas as pd\n",
    "\n",
    "import utils"
   ]
  },
  {
   "cell_type": "markdown",
   "metadata": {},
   "source": [
    "#### 1) Defining the dataset generation parameters\n",
    "\n",
    "Those parameters define the true dynamics of the system, as well as how many samples there will be available in our training set."
   ]
  },
  {
   "cell_type": "code",
   "execution_count": 2,
   "metadata": {},
   "outputs": [],
   "source": [
    "from parameters import h, v, u\n",
    "\n",
    "#DYNAMICS\n",
    "h = h\n",
    "v = v\n",
    "u = u\n",
    "params = [h, v, u]\n",
    "\n",
    "\n",
    "#INITIAL DISTRIBUTION\n",
    "inf_box, sup_box = -3, 3\n",
    "\n",
    "#LENGTH OF HORIZON\n",
    "n_steps_ahead = 20\n",
    "\n",
    "#NUMBER OF TRAJECTORY SIMULATIONS\n",
    "n_simulations = 10_000\n"
   ]
  },
  {
   "cell_type": "markdown",
   "metadata": {},
   "source": [
    "#### 2) Build trajectories and store the pairs $(x_{t}, x_{t+1})$"
   ]
  },
  {
   "cell_type": "code",
   "execution_count": 3,
   "metadata": {},
   "outputs": [],
   "source": [
    "pairs = []\n",
    "\n",
    "for t in range(n_steps_ahead + 1):\n",
    "    if t == 0:\n",
    "        states = utils.getInitialState(inf_box, sup_box, n_simulations)\n",
    "\n",
    "    else:\n",
    "        previous_states = states.copy()\n",
    "        states = utils.systemDynamics(states, params)\n",
    "\n",
    "        for previous_state, state in zip(previous_states, states):\n",
    "            pairs.append([previous_state, state])"
   ]
  },
  {
   "cell_type": "markdown",
   "metadata": {},
   "source": [
    "#### 3) Build dataset (using DataFrame type)"
   ]
  },
  {
   "cell_type": "code",
   "execution_count": 4,
   "metadata": {},
   "outputs": [
    {
     "data": {
      "text/html": [
       "<div>\n",
       "<style scoped>\n",
       "    .dataframe tbody tr th:only-of-type {\n",
       "        vertical-align: middle;\n",
       "    }\n",
       "\n",
       "    .dataframe tbody tr th {\n",
       "        vertical-align: top;\n",
       "    }\n",
       "\n",
       "    .dataframe thead th {\n",
       "        text-align: right;\n",
       "    }\n",
       "</style>\n",
       "<table border=\"1\" class=\"dataframe\">\n",
       "  <thead>\n",
       "    <tr style=\"text-align: right;\">\n",
       "      <th></th>\n",
       "      <th>x</th>\n",
       "      <th>y</th>\n",
       "    </tr>\n",
       "  </thead>\n",
       "  <tbody>\n",
       "    <tr>\n",
       "      <th>0</th>\n",
       "      <td>[0.3101802085903067, -2.7617156216425283, -0.9...</td>\n",
       "      <td>[-0.8985558258519621, -1.873482994995219, -0.3...</td>\n",
       "    </tr>\n",
       "    <tr>\n",
       "      <th>1</th>\n",
       "      <td>[1.2107662316485737, -0.518452332717056, -2.02...</td>\n",
       "      <td>[-0.13627455041796743, -1.1783622746406195, -1...</td>\n",
       "    </tr>\n",
       "    <tr>\n",
       "      <th>2</th>\n",
       "      <td>[-1.8964583531063366, -2.3254043134674305, -2....</td>\n",
       "      <td>[-2.708374788860225, -3.586670225697164, -1.96...</td>\n",
       "    </tr>\n",
       "    <tr>\n",
       "      <th>3</th>\n",
       "      <td>[-2.5967448061008858, -2.726547485741719, 0.68...</td>\n",
       "      <td>[-1.6451114237123, -1.5670674705954208, 1.2872...</td>\n",
       "    </tr>\n",
       "    <tr>\n",
       "      <th>4</th>\n",
       "      <td>[-2.4125823366086436, 2.487834736931684, -1.95...</td>\n",
       "      <td>[-3.8019700085300654, 1.9225012980544394, -1.3...</td>\n",
       "    </tr>\n",
       "    <tr>\n",
       "      <th>...</th>\n",
       "      <td>...</td>\n",
       "      <td>...</td>\n",
       "    </tr>\n",
       "    <tr>\n",
       "      <th>199995</th>\n",
       "      <td>[-1.7718618511684616, -0.16709753618010514, 9....</td>\n",
       "      <td>[-1.6389094212325979, -1.6611938019455175, 9.9...</td>\n",
       "    </tr>\n",
       "    <tr>\n",
       "      <th>199996</th>\n",
       "      <td>[-5.158593854942994, -1.1046755483937805, 14.3...</td>\n",
       "      <td>[-3.6791207988856507, -1.3519799688968193, 14....</td>\n",
       "    </tr>\n",
       "    <tr>\n",
       "      <th>199997</th>\n",
       "      <td>[4.217546153103841, 0.20471517990648258, 11.12...</td>\n",
       "      <td>[2.7292585161854768, 0.3917978081645609, 11.72...</td>\n",
       "    </tr>\n",
       "    <tr>\n",
       "      <th>199998</th>\n",
       "      <td>[-1.894542999955521, -5.24556191514504, 12.435...</td>\n",
       "      <td>[-2.0898540046790064, -3.7583317340923887, 13....</td>\n",
       "    </tr>\n",
       "    <tr>\n",
       "      <th>199999</th>\n",
       "      <td>[-0.15977384906802294, 3.5463451401506267, 14....</td>\n",
       "      <td>[1.3364169410190052, 3.4395129368655017, 14.80...</td>\n",
       "    </tr>\n",
       "  </tbody>\n",
       "</table>\n",
       "<p>200000 rows × 2 columns</p>\n",
       "</div>"
      ],
      "text/plain": [
       "                                                        x  \\\n",
       "0       [0.3101802085903067, -2.7617156216425283, -0.9...   \n",
       "1       [1.2107662316485737, -0.518452332717056, -2.02...   \n",
       "2       [-1.8964583531063366, -2.3254043134674305, -2....   \n",
       "3       [-2.5967448061008858, -2.726547485741719, 0.68...   \n",
       "4       [-2.4125823366086436, 2.487834736931684, -1.95...   \n",
       "...                                                   ...   \n",
       "199995  [-1.7718618511684616, -0.16709753618010514, 9....   \n",
       "199996  [-5.158593854942994, -1.1046755483937805, 14.3...   \n",
       "199997  [4.217546153103841, 0.20471517990648258, 11.12...   \n",
       "199998  [-1.894542999955521, -5.24556191514504, 12.435...   \n",
       "199999  [-0.15977384906802294, 3.5463451401506267, 14....   \n",
       "\n",
       "                                                        y  \n",
       "0       [-0.8985558258519621, -1.873482994995219, -0.3...  \n",
       "1       [-0.13627455041796743, -1.1783622746406195, -1...  \n",
       "2       [-2.708374788860225, -3.586670225697164, -1.96...  \n",
       "3       [-1.6451114237123, -1.5670674705954208, 1.2872...  \n",
       "4       [-3.8019700085300654, 1.9225012980544394, -1.3...  \n",
       "...                                                   ...  \n",
       "199995  [-1.6389094212325979, -1.6611938019455175, 9.9...  \n",
       "199996  [-3.6791207988856507, -1.3519799688968193, 14....  \n",
       "199997  [2.7292585161854768, 0.3917978081645609, 11.72...  \n",
       "199998  [-2.0898540046790064, -3.7583317340923887, 13....  \n",
       "199999  [1.3364169410190052, 3.4395129368655017, 14.80...  \n",
       "\n",
       "[200000 rows x 2 columns]"
      ]
     },
     "execution_count": 4,
     "metadata": {},
     "output_type": "execute_result"
    }
   ],
   "source": [
    "df = pd.DataFrame(pairs)\n",
    "df.columns = ['x', 'y']\n",
    "df"
   ]
  },
  {
   "cell_type": "markdown",
   "metadata": {},
   "source": [
    "#### 4) Store dataset in CSV\n",
    "\n",
    "In this step, we also serialize the arrays into strings to store. In the dataprocessing of the training notebook, we re-convert those strings to arrays."
   ]
  },
  {
   "cell_type": "code",
   "execution_count": 5,
   "metadata": {},
   "outputs": [],
   "source": [
    "# Serialize the arrays into strings\n",
    "df['x'] = df['x'].apply(lambda x: ' '.join(map(str, x)))\n",
    "df['y'] = df['y'].apply(lambda x: ' '.join(map(str, x)))\n",
    "\n",
    "# Save the DataFrame to a CSV file\n",
    "df.to_csv('data.csv', index=False)"
   ]
  }
 ],
 "metadata": {
  "kernelspec": {
   "display_name": "Python 3",
   "language": "python",
   "name": "python3"
  },
  "language_info": {
   "codemirror_mode": {
    "name": "ipython",
    "version": 3
   },
   "file_extension": ".py",
   "mimetype": "text/x-python",
   "name": "python",
   "nbconvert_exporter": "python",
   "pygments_lexer": "ipython3",
   "version": "3.11.4"
  }
 },
 "nbformat": 4,
 "nbformat_minor": 2
}
