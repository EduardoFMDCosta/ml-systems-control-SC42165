{
 "cells": [
  {
   "cell_type": "markdown",
   "id": "4e32b319",
   "metadata": {},
   "source": [
    "# An Introduction to Neural Networks: Learning the Dubins car dynamics\n",
    "\n",
    "In this notebook, we aim to **learn the dynamics of the Dubins car using a fully connected neural network** in Python. For this, we will employ the Pytorch library, which is an optimized tensor library for deep learning using GPUs and CPUs (https://pytorch.org/). \n",
    "\n",
    "Let $h$ be a step size, $v$ a velocity, and $u$ a constant control. The Dubins car model (in discrete time) can be described as:\n",
    "\n",
    "\\begin{equation}\n",
    "x_{t+1} = f(x_t) = \\begin{bmatrix}\n",
    "                      x_{t}^{(1)} + h v \\sin(x_{t}^{(3)}) \\\\\n",
    "                      x_{t}^{(2)} + h v \\cos(x_{t}^{(3)}) \\\\\n",
    "                      x_{t}^{(3)} + h u\n",
    "                    \\end{bmatrix}\n",
    "\\end{equation}\n",
    "\n",
    "where $x_{t}^{(1)}$ represents the $x$-position of the car at instant $t$, $x_{t}^{(2)}$ the $y$-position, and $x_{t}^{(3)}$ is its steering angle. Note that this dynamics is non-linear."
   ]
  },
  {
   "cell_type": "markdown",
   "id": "f4c9bbab",
   "metadata": {},
   "source": [
    "### 1) What we want to see\n",
    "\n",
    "- **Understand the first sections and answer questions**: The first 6 sections contain explanations about the dataset and the construction of a simple neural network (NN). There are <span style=\"color: #8080ff\">some questions in blue</span> that should be answered (one or two sentences are more than enough :) ) \n",
    "\n",
    "- **Code Sections 7 and 8**: Sections 7 and 8 are the main tasks of this exercise. It requires the construction of a larger NN, also varying training choices, as well as building a residual neural network \n",
    "\n",
    "- You can do everything on your laptop, but it might be a good idea to use google colab (https://colab.research.google.com/) to get free access to a GPU\n",
    "\n",
    "- You will send your notebook containing the results (WE WON'T RUN YOUR NOTEBOOK) as a unique jupyter notebook file (.ipynb extension). We won't open any other supplementary file"
   ]
  },
  {
   "cell_type": "markdown",
   "id": "916634f9",
   "metadata": {},
   "source": [
    "### 2) Loading required libraries\n",
    "\n",
    "First, we load the packages we want to use. This includes Numpy for preprocessing the data, Pytorch (torch) for building and training the neural networks, and Matplotlib for visualization."
   ]
  },
  {
   "cell_type": "code",
   "execution_count": 70,
   "id": "6d7a1fc7",
   "metadata": {},
   "outputs": [],
   "source": [
    "import numpy as np\n",
    "\n",
    "import torch\n",
    "import torch.nn as nn\n",
    "import torch.optim as optim\n",
    "import torch.nn.functional as F\n",
    "\n",
    "import matplotlib.pyplot as plt"
   ]
  },
  {
   "cell_type": "markdown",
   "id": "ce823ebb",
   "metadata": {},
   "source": [
    "### 3) Loading the dataset\n",
    "\n",
    "To build our dataset, we selected the values for the parameters $h = 0.3$, $v = 5$, and $u = 2$ and generated a dataset $\\mathcal{D} = \\{ x_{t}, x_{t+1}  \\}_{t=0}^{N}$ by simulating the system for multiple (randomly selected) initial positions for 20 time steps. In order words, we use the following routine to build the set:\n",
    "\n",
    "For $M$ runs:\n",
    "\n",
    "- Select randomly $x_0$ according to some probability distribution\n",
    "\n",
    "- Use equation (1) for $H$ steps (we use $H = 20$ in this exercise)\n",
    "\n",
    "- Store the trajectory as $\\{ (x_{0}, x_{1}), ..., (x_{H-1}, x_{H}) \\}$\n",
    "\n",
    "- Include the trajectory in the dataset $\\mathcal{D}$\n",
    "\n",
    "\n",
    "In the end, our dataset $\\mathcal{D}$ will contain $MH$ data pairs $(x_{t}, x_{t+1})$, which we will further denote by $(x, y)$ (see, for instance, the dataset columns' names).\n",
    "\n",
    "For more details, we have also made available the notebook *dataset_generation.ipynb*."
   ]
  },
  {
   "cell_type": "code",
   "execution_count": 71,
   "id": "81d15c12",
   "metadata": {},
   "outputs": [],
   "source": [
    "import pandas as pd\n",
    "\n",
    "#Read CSV file containing data\n",
    "data = pd.read_csv('data.csv') # change path if necessary\n",
    "\n",
    "#Deserialize the strings back into NumPy arrays\n",
    "data['x'] = data['x'].apply(lambda x: np.array(x.split(), dtype=float))\n",
    "data['y'] = data['y'].apply(lambda x: np.array(x.split(), dtype=float))"
   ]
  },
  {
   "cell_type": "markdown",
   "id": "5c997b20",
   "metadata": {},
   "source": [
    "Below, we display the first observations of the dataset. Note how each value can be represented by a vector in $\\mathbb{R}^3$."
   ]
  },
  {
   "cell_type": "code",
   "execution_count": 72,
   "id": "152edb6b",
   "metadata": {},
   "outputs": [
    {
     "data": {
      "text/html": [
       "<div>\n",
       "<style scoped>\n",
       "    .dataframe tbody tr th:only-of-type {\n",
       "        vertical-align: middle;\n",
       "    }\n",
       "\n",
       "    .dataframe tbody tr th {\n",
       "        vertical-align: top;\n",
       "    }\n",
       "\n",
       "    .dataframe thead th {\n",
       "        text-align: right;\n",
       "    }\n",
       "</style>\n",
       "<table border=\"1\" class=\"dataframe\">\n",
       "  <thead>\n",
       "    <tr style=\"text-align: right;\">\n",
       "      <th></th>\n",
       "      <th>x</th>\n",
       "      <th>y</th>\n",
       "    </tr>\n",
       "  </thead>\n",
       "  <tbody>\n",
       "    <tr>\n",
       "      <th>0</th>\n",
       "      <td>[0.3101802085903067, -2.7617156216425283, -0.9...</td>\n",
       "      <td>[-0.8985558258519621, -1.873482994995219, -0.3...</td>\n",
       "    </tr>\n",
       "    <tr>\n",
       "      <th>1</th>\n",
       "      <td>[1.2107662316485737, -0.518452332717056, -2.02...</td>\n",
       "      <td>[-0.13627455041796743, -1.1783622746406195, -1...</td>\n",
       "    </tr>\n",
       "    <tr>\n",
       "      <th>2</th>\n",
       "      <td>[-1.8964583531063366, -2.3254043134674305, -2....</td>\n",
       "      <td>[-2.708374788860225, -3.586670225697164, -1.96...</td>\n",
       "    </tr>\n",
       "    <tr>\n",
       "      <th>3</th>\n",
       "      <td>[-2.5967448061008858, -2.726547485741719, 0.68...</td>\n",
       "      <td>[-1.6451114237123, -1.5670674705954208, 1.2872...</td>\n",
       "    </tr>\n",
       "    <tr>\n",
       "      <th>4</th>\n",
       "      <td>[-2.4125823366086436, 2.487834736931684, -1.95...</td>\n",
       "      <td>[-3.8019700085300654, 1.9225012980544394, -1.3...</td>\n",
       "    </tr>\n",
       "  </tbody>\n",
       "</table>\n",
       "</div>"
      ],
      "text/plain": [
       "                                                   x  \\\n",
       "0  [0.3101802085903067, -2.7617156216425283, -0.9...   \n",
       "1  [1.2107662316485737, -0.518452332717056, -2.02...   \n",
       "2  [-1.8964583531063366, -2.3254043134674305, -2....   \n",
       "3  [-2.5967448061008858, -2.726547485741719, 0.68...   \n",
       "4  [-2.4125823366086436, 2.487834736931684, -1.95...   \n",
       "\n",
       "                                                   y  \n",
       "0  [-0.8985558258519621, -1.873482994995219, -0.3...  \n",
       "1  [-0.13627455041796743, -1.1783622746406195, -1...  \n",
       "2  [-2.708374788860225, -3.586670225697164, -1.96...  \n",
       "3  [-1.6451114237123, -1.5670674705954208, 1.2872...  \n",
       "4  [-3.8019700085300654, 1.9225012980544394, -1.3...  "
      ]
     },
     "execution_count": 72,
     "metadata": {},
     "output_type": "execute_result"
    }
   ],
   "source": [
    "#Display dataset (5 first observations)\n",
    "data.head(5)"
   ]
  },
  {
   "cell_type": "markdown",
   "id": "f9d03693",
   "metadata": {},
   "source": [
    "#### 3.1) Splitting the dataset into training and testing sets\n",
    "\n",
    "With the help of the Scikit-Learn package (https://scikit-learn.org/stable/) - one of the most famous and useful ML libraries available -, we use the *train_test_split* method to split our dataset in two: 80% of the observations (randomly selected) are included in the training set (used to calibrate the weights of the NN), while the remaining 20% become part of the testing set (used to measure the accuracy of the model on unseen data). Those proportions can be modified by changing the parameter *test_size*."
   ]
  },
  {
   "cell_type": "code",
   "execution_count": 73,
   "id": "c6f9341b",
   "metadata": {},
   "outputs": [],
   "source": [
    "from sklearn.model_selection import train_test_split\n",
    "\n",
    "#Splits dataset randomly into testing (20% of observations) and training (80%)\n",
    "train_set, test_set = train_test_split(data, test_size = 0.2, random_state = 0)\n",
    "\n",
    "#TRAINING\n",
    "x_train = train_set['x']\n",
    "y_train = train_set['y']\n",
    "\n",
    "#TESTING\n",
    "x_test = test_set['x']\n",
    "y_test = test_set['y']"
   ]
  },
  {
   "cell_type": "markdown",
   "id": "aa96c4c0",
   "metadata": {},
   "source": [
    "We convert the training and testing sets to Pytorch tensors, which is the data structure handle by Pytorch for NN training."
   ]
  },
  {
   "cell_type": "code",
   "execution_count": 74,
   "id": "d7024a14",
   "metadata": {},
   "outputs": [],
   "source": [
    "tensor_list = x_train.apply(lambda x: torch.tensor(x)).tolist()\n",
    "x_train = torch.stack(tensor_list).to(dtype=torch.float32)\n",
    "\n",
    "tensor_list = y_train.apply(lambda x: torch.tensor(x)).tolist()\n",
    "y_train = torch.stack(tensor_list).to(dtype=torch.float32)\n",
    "\n",
    "tensor_list = x_test.apply(lambda x: torch.tensor(x)).tolist()\n",
    "x_test = torch.stack(tensor_list).to(dtype=torch.float32)\n",
    "\n",
    "tensor_list = y_test.apply(lambda x: torch.tensor(x)).tolist()\n",
    "y_test = torch.stack(tensor_list).to(dtype=torch.float32)"
   ]
  },
  {
   "cell_type": "markdown",
   "id": "b1d22a5b",
   "metadata": {},
   "source": [
    "We can check the shape (dimensions) of the tensors as below. \n",
    "\n",
    "<span style=\"color: #8080ff\">**QUESTION 1**: </span> What does each dimension of the tensors mean/represent?\n",
    "\n",
    "**Answer:** [ADD YOUR ANSWER HERE]"
   ]
  },
  {
   "cell_type": "code",
   "execution_count": 75,
   "id": "d8396e06",
   "metadata": {},
   "outputs": [
    {
     "name": "stdout",
     "output_type": "stream",
     "text": [
      "x_train shape: torch.Size([160000, 3])\n",
      "x_test shape: torch.Size([40000, 3])\n",
      "y_train shape: torch.Size([160000, 3])\n",
      "y_test shape: torch.Size([40000, 3])\n",
      "160000 train samples\n",
      "40000 test samples\n"
     ]
    }
   ],
   "source": [
    "print('x_train shape:', x_train.shape)\n",
    "print('x_test shape:', x_test.shape)\n",
    "print('y_train shape:', y_train.shape)\n",
    "print('y_test shape:', y_test.shape)\n",
    "\n",
    "print(x_train.shape[0], 'train samples')\n",
    "print(x_test.shape[0], 'test samples')"
   ]
  },
  {
   "cell_type": "markdown",
   "id": "30956c95",
   "metadata": {},
   "source": [
    "### 4) Building our first (simple and small) neural network\n",
    "The goal is now to create a **dense feedforward neural network** (hereafter denoted by $f_{\\text{NN}}$) which can represent the Dubins car dynamics. In other words, we would like that, for any input $x \\in \\mathbb{R}^3$, $f_{\\text{NN}}(w, x) \\approx f(x)$ (where $w$ represents the weights of the NN).\n",
    "\n",
    "<br>\n",
    "Such network consists out of three parts, which are the <span style=\"color: #ff8080\">input layer</span>, the <span style=\"color: #8080ff\">hidden layers</span> and the <span style=\"color: #80ff80\">output layer</span> (as illustrated by the image below).\n",
    "\n",
    "![An examplar structure of a feed-forward neural network](Neural_Network.png)\n"
   ]
  },
  {
   "cell_type": "markdown",
   "id": "a793fd4e",
   "metadata": {},
   "source": [
    "<span style=\"color: #8080ff\">**QUESTION 2**: </span> In our case, how many neurons should the input layer have? How about the output layer? How about the hidden layers, are there any restrictions on the number of neurons?\n",
    "\n",
    "**Answer:** [ADD YOUR ANSWER HERE]"
   ]
  },
  {
   "cell_type": "markdown",
   "id": "b005fa12",
   "metadata": {},
   "source": [
    "<span style=\"color: #8080ff\">**QUESTION 3**: </span> We mentioned that we are going to build a dense feedforward NN. What does *feedforward* mean (you can explain this by giving an example of a structure that is not feedforward)? What does *dense* mean?\n",
    "\n",
    "**Answer:** [ADD YOUR ANSWER HERE]"
   ]
  },
  {
   "cell_type": "markdown",
   "id": "d52f0272",
   "metadata": {},
   "source": [
    "In the Pytorch framework, we build the NN as a class, as seen below."
   ]
  },
  {
   "cell_type": "code",
   "execution_count": 76,
   "id": "c64b0028",
   "metadata": {},
   "outputs": [],
   "source": [
    "class Neural_network(nn.Module): # inherit the nn.Module class for backpropagation and training functionalities\n",
    "    \n",
    "    #Build the layers of the network, and initializes the parameters\n",
    "    def __init__(self): \n",
    "        super(Neural_network, self).__init__()\n",
    "        self.fc1 = nn.Linear(3, 10, bias = True)  # fully connected layer from 3 to 10 dimensions\n",
    "        self.fc2 = nn.Linear(10, 3, bias = True) # fully connected layer from 10 to 3 dimensions\n",
    "    \n",
    "    #Build the forward call \n",
    "    def forward(self, x):\n",
    "        x = torch.flatten(x, start_dim = 1) # x is reshaped into a n x 3 dimensional input (actually not needed in our case, but usually useful)\n",
    "        x = self.fc1(x) # apply the first fully connected layer, x now has shape n x 10\n",
    "        x = F.relu(x) # apply a ReLU activation to the hidden layer\n",
    "        x = self.fc2(x) # apply the second fully connected layer, x now has shape n x 3\n",
    "        return x"
   ]
  },
  {
   "cell_type": "markdown",
   "id": "376480c4",
   "metadata": {},
   "source": [
    "The parts of the model, as well as their respective parameters, can then be displayed:"
   ]
  },
  {
   "cell_type": "code",
   "execution_count": 77,
   "id": "fcabc55e",
   "metadata": {},
   "outputs": [
    {
     "name": "stdout",
     "output_type": "stream",
     "text": [
      "Neural_network(\n",
      "  (fc1): Linear(in_features=3, out_features=10, bias=True)\n",
      "  (fc2): Linear(in_features=10, out_features=3, bias=True)\n",
      ")\n",
      "\n",
      "Number of parameter arrays: 4\n",
      "The shape of the parameter arrays:\n",
      "torch.Size([10, 3])\n",
      "torch.Size([10])\n",
      "torch.Size([3, 10])\n",
      "torch.Size([3])\n"
     ]
    }
   ],
   "source": [
    "torch.manual_seed(0) # set random seed for variabl initialization\n",
    "\n",
    "net = Neural_network() # initialize the NN\n",
    "print(net)\n",
    "print('')\n",
    "\n",
    "params = list(net.parameters())\n",
    "print('Number of parameter arrays: ' + str(len(params)))\n",
    "print('The shape of the parameter arrays:')\n",
    "\n",
    "for param in params:\n",
    "    print(param.shape)"
   ]
  },
  {
   "cell_type": "markdown",
   "id": "ffb01ffd",
   "metadata": {},
   "source": [
    "#### 4.1) Training the model\n",
    "After writing the model class, we can now train the parameters of the model on the training dataset. Here, we have to do a number of steps. \n",
    "\n",
    "##### 4.1.1) Defining the loss function\n",
    "\n",
    "The loss function captures the distance between an actual output and the predicted output by the neural network. In our case, we are in a regression setting, and we propose to use the MSE loss (https://pytorch.org/docs/stable/generated/torch.nn.MSELoss.html#torch.nn.MSELoss). More precisely, given a dataset $\\mathcal{D} = \\{ (x_i, y_i) \\}_{i=1}^{N}$, we define \n",
    "\n",
    "\\begin{equation}\n",
    "L(w; \\mathcal{D}) := \\frac{1}{N} \\sum_{i=1}^{N} ||y_i - f_{\\text{NN}}(w, x_i)||^{2}\n",
    "\\end{equation}"
   ]
  },
  {
   "cell_type": "code",
   "execution_count": 78,
   "id": "634b7966",
   "metadata": {},
   "outputs": [],
   "source": [
    "loss_func = nn.MSELoss()"
   ]
  },
  {
   "cell_type": "markdown",
   "id": "6386e01d",
   "metadata": {},
   "source": [
    "##### 4.1.2) Defining the optimizer"
   ]
  },
  {
   "cell_type": "markdown",
   "id": "3bb8aa2d",
   "metadata": {},
   "source": [
    "Gradient descent is usually the optimization technique used to minimize the loss. Once we have computed the gradient of the loss $L$ with respect to the weights $w$, there are several ways in which we can update $w$. Pytorch offers several optimizer algorithms for such a task  (https://pytorch.org/docs/stable/optim.html): Adadelta, Adagrad, Adam, etc. \n",
    "\n",
    "This paper (https://arxiv.org/pdf/1412.6980.pdf) introduces the Adam algorithm, which we employ in this notebook."
   ]
  },
  {
   "cell_type": "code",
   "execution_count": 79,
   "id": "c0f88c7a",
   "metadata": {},
   "outputs": [],
   "source": [
    "optimizer = optim.Adam(net.parameters(), lr = 0.001, betas = (0.9, 0.999))"
   ]
  },
  {
   "cell_type": "markdown",
   "id": "69744f66",
   "metadata": {},
   "source": [
    "##### 4.1.3) Training routine\n",
    "\n",
    "We describe the training routine as follows:\n",
    "\n",
    "- Subdivide the training set in (randomly selected) batches of size *batch_size*. The batch $k$ will be represented by $\\mathcal{B}_{k} = \\{ (x_i, y_i) \\}_{i=1}^{B}$, and contains $B$ randomly selected samples from $\\mathcal{D}$.\n",
    "\n",
    "- For each batch $\\mathcal{B}_{k}$, compute the gradient of the loss $L(w; \\mathcal{B}_{k})$ with respect to $w$. Note that we are considering the loss on the batch $\\mathcal{B}_{k}$, and not on the whole training set $\\mathcal{D}$.\n",
    "\n",
    "    - Update the weights $w$ according to the rule defined by the optimizer. You can think of this step as some kind of weight update $w \\gets w - \\eta \\nabla_{w} L(w; \\mathcal{B}_{k})$.\n",
    "\n",
    "\n",
    "\n",
    "Note that this process is repeated for a number of epochs, which is just a fancy name for number of times that we pass through the entire dataset."
   ]
  },
  {
   "cell_type": "code",
   "execution_count": 80,
   "id": "a309b43c",
   "metadata": {},
   "outputs": [],
   "source": [
    "epochs = 100 # how many times we want to go through the whole data set\n",
    "batch_size = 16 # how many samples do we process before updating weights\n",
    "batches = int(np.floor(len(y_train)/batch_size)) # how many batches are there when dividing the whole data set\n",
    "\n",
    "net.train() # set network to training mode\n",
    "Index = np.arange(len(y_train)) #Index, so we can randomly shuffle inputs and outputs\n",
    "\n",
    "np.random.seed(0) # set random seed for shuffling\n",
    "\n",
    "loss_per_epoch = []\n",
    "\n",
    "for epoch in range(1, epochs + 1):\n",
    "    np.random.shuffle(Index) # shuffle indices, so batches have randomly selected samples\n",
    "    \n",
    "    loss_epoch = 0\n",
    "    \n",
    "    for batch in range(batches):\n",
    "        Index_batch = Index[batch * batch_size:(batch + 1) * batch_size]\n",
    "        x_batch = x_train[Index_batch] # Get respective input data\n",
    "        y_batch = y_train[Index_batch] # Get respective output data\n",
    "        \n",
    "        # delete gradients from optimizer (otherwise, gradients are cummulative summed up over all previous batches)\n",
    "        optimizer.zero_grad()\n",
    "        # predict the output for the given inputs (forward pass)\n",
    "        y_batch_pred = net(x_batch)\n",
    "        # calculate the loss of the predicted input (forward pass)\n",
    "        loss = loss_func(y_batch_pred, y_batch)\n",
    "        # get the gradients of the trainable paramters for the given loss (backward pass)\n",
    "        loss.backward()\n",
    "        # apply the gradients and change weights\n",
    "        optimizer.step()\n",
    "        \n",
    "        loss_epoch += loss\n",
    "    \n",
    "    loss_epoch /= batches\n",
    "    \n",
    "    loss_per_epoch.append(loss_epoch.item())\n",
    "    #print('Loss for epoch {}/{}: {:0.4e}'.format(epoch, epochs, loss_epoch) )    "
   ]
  },
  {
   "cell_type": "code",
   "execution_count": 81,
   "id": "8da936d3",
   "metadata": {},
   "outputs": [
    {
     "data": {
      "image/png": "[encoded data removed]",
      "text/plain": [
       "<Figure size 640x480 with 1 Axes>"
      ]
     },
     "metadata": {},
     "output_type": "display_data"
    }
   ],
   "source": [
    "plt.plot(loss_per_epoch)\n",
    "plt.xlabel('Epochs')\n",
    "plt.ylabel('Avg loss per epoch')\n",
    "plt.show()"
   ]
  },
  {
   "cell_type": "markdown",
   "id": "9195dd25",
   "metadata": {},
   "source": [
    "<span style=\"color: #8080ff\">**QUESTION 4**: </span> Explain what you observe in the training loss per epoch curve above.\n",
    "\n",
    "**Answer:** [ADD YOUR ANSWER HERE]"
   ]
  },
  {
   "cell_type": "markdown",
   "id": "193ca335",
   "metadata": {},
   "source": [
    "### 5) Testing the model\n",
    "Finally, the model has to be tested in the testing set:"
   ]
  },
  {
   "cell_type": "code",
   "execution_count": 82,
   "id": "5f25e4f1",
   "metadata": {},
   "outputs": [],
   "source": [
    "net.eval() # Set model inot evaluation mode\n",
    "with torch.no_grad(): # Only build forwards graph => faster method\n",
    "    y_test_pred = net(x_test)"
   ]
  },
  {
   "cell_type": "code",
   "execution_count": 83,
   "id": "6c59d0db",
   "metadata": {},
   "outputs": [
    {
     "name": "stdout",
     "output_type": "stream",
     "text": [
      "Loss on testing set: tensor(0.0405)\n"
     ]
    }
   ],
   "source": [
    "loss_test = loss_func(y_test, y_test_pred)\n",
    "\n",
    "print('Loss on testing set:', loss_test)"
   ]
  },
  {
   "cell_type": "markdown",
   "id": "e892907b",
   "metadata": {},
   "source": [
    "<span style=\"color: #8080ff\">**QUESTION 5**: </span> Why does it make sense to measure the accuracy of the model on the test set?\n",
    "\n",
    "**Answer:** [ADD YOUR ANSWER HERE]"
   ]
  },
  {
   "cell_type": "markdown",
   "id": "b9df8587",
   "metadata": {},
   "source": [
    "### 6) Visualizing predictions"
   ]
  },
  {
   "cell_type": "code",
   "execution_count": 84,
   "id": "edc4e34c",
   "metadata": {},
   "outputs": [],
   "source": [
    "from parameters import h, v, u\n",
    "\n",
    "h = h\n",
    "v = v\n",
    "u = u\n",
    "\n",
    "params = [h, v, u]"
   ]
  },
  {
   "cell_type": "markdown",
   "id": "c7cda6ff",
   "metadata": {},
   "source": [
    "We run the dynamics for $H$ steps using the true dynamics (blue points) and the predictions coming from our trained NN (red points) for a prespecified initial point $x_0$. Note that we plot only the first two components of the state vectors, which correspond to the car position on the $\\mathbb{R}^2$ plane."
   ]
  },
  {
   "cell_type": "code",
   "execution_count": 85,
   "id": "77b6f04f",
   "metadata": {},
   "outputs": [],
   "source": [
    "import utils\n",
    "\n",
    "def plotActualDynamicsAndNNPredictions(initial_state):\n",
    "\n",
    "    state_actual = initial_state\n",
    "    plt.scatter(state_actual[0][0], state_actual[0][1], color = 'blue')\n",
    "    plt.text(state_actual[0][0] + 0.1, state_actual[0][1], '1', fontsize=10, color='blue', weight='bold') # add time step marker\n",
    "    \n",
    "    state_nn = torch.Tensor(initial_state)\n",
    "\n",
    "    for t in range(10):\n",
    "\n",
    "        #True dynamics\n",
    "        state_actual = utils.systemDynamics(state_actual, params)\n",
    "        plt.scatter(state_actual[0][0], state_actual[0][1], color = 'blue')\n",
    "        plt.text(state_actual[0][0] + 0.1, state_actual[0][1], t+2, fontsize=10, color='blue', weight='bold') # add time step marker\n",
    "\n",
    "        #NN dynamics\n",
    "        with torch.no_grad():\n",
    "            state_nn = net(state_nn)\n",
    "\n",
    "        plt.scatter(state_nn[0][0], state_nn[0][1], color = 'red')\n",
    "        plt.text(state_nn[0][0] + 0.1, state_nn[0][1], t+2, fontsize=10, color='red', weight='bold') # add time step marker\n",
    "\n",
    "\n",
    "    plt.text(0, -0.15, 'Actual dynamics', fontsize=10, color='blue', weight='bold', transform=plt.gca().transAxes) #add legend\n",
    "    plt.text(0, -0.2, 'NN prediction', fontsize=10, color='red', weight='bold', transform=plt.gca().transAxes) #add legend"
   ]
  },
  {
   "cell_type": "markdown",
   "id": "f62c302e",
   "metadata": {},
   "source": [
    "#### 6.1) For $x_0 = [1.0, 1.0, 0.5]$"
   ]
  },
  {
   "cell_type": "code",
   "execution_count": 86,
   "id": "318118d5",
   "metadata": {},
   "outputs": [
    {
     "data": {
      "image/png": "[encoded data removed]",
      "text/plain": [
       "<Figure size 640x480 with 1 Axes>"
      ]
     },
     "metadata": {},
     "output_type": "display_data"
    }
   ],
   "source": [
    "initial_state = np.array([[1.0, 1.0, 0.5]])\n",
    "plotActualDynamicsAndNNPredictions(initial_state)"
   ]
  },
  {
   "cell_type": "markdown",
   "id": "9d106dc9",
   "metadata": {},
   "source": [
    "#### 6.2) For $x_0 = [5.0, 8.0, 1.5]$"
   ]
  },
  {
   "cell_type": "code",
   "execution_count": 87,
   "id": "ed8dfccc",
   "metadata": {},
   "outputs": [
    {
     "data": {
      "image/png": "[encoded data removed]",
      "text/plain": [
       "<Figure size 640x480 with 1 Axes>"
      ]
     },
     "metadata": {},
     "output_type": "display_data"
    }
   ],
   "source": [
    "initial_state = np.array([[5.0, 8.0, 1.5]])\n",
    "plotActualDynamicsAndNNPredictions(initial_state)"
   ]
  },
  {
   "cell_type": "markdown",
   "id": "c376fe4b",
   "metadata": {},
   "source": [
    "<span style=\"color: #8080ff\">**QUESTION 6**: </span> Why does the NN predictions seem better for $x_0 = [1.0, 1.0, 0.5]$ compared with $x_0 = [5.0, 8.0, 1.5]$? (*Hint:* take a look at the file *dataset_generation.ipynb* to see how the trajectories are created for the dataset. More specifically, note in which region of $\\mathbb{R}^d$ the model is being trained on).\n",
    "\n",
    "**Answer:** [ADD YOUR ANSWER HERE]"
   ]
  },
  {
   "cell_type": "markdown",
   "id": "c1742d36",
   "metadata": {},
   "source": [
    "### 7) **Your task**: Building a larger and more accurate NN\n",
    "\n",
    "After seeing the previous example, we now have the goal of building a larger and more accurate NN. For this, we propose the changes below (but feel free to test other possibilities). Also, we ask a few more questions to guide your understanding of the training.\n",
    "\n",
    "**NN structure**:\n",
    "\n",
    "- Add one or two new hidden layers, varying the number of neurons per hidden layer. OBS: There are some discussions on the literature about *depth vs width* of neural networks.\n",
    "\n",
    "- Test other types of activation functions (other than ReLU). <span style=\"color: #8080ff\">**QUESTION 7** </span>: What are the advantages of using ReLU when compared to other activation functions?\n",
    "\n",
    "**Training parameters**:\n",
    "\n",
    "- Increase the number of epochs; change the batch size\n",
    "\n",
    "- Test other types of optimizers (e.g. RMSprop, Adagrad, ...)\n",
    "\n",
    "- Add regularization to the loss function\n",
    "\n",
    "- <span style=\"color: #8080ff\">**QUESTION 8**: </span>Are there other loss functions that could make sense for this problem?\n",
    "\n",
    "\n",
    "**Try to get a better accuracy on the test set than we had with our small network**."
   ]
  },
  {
   "cell_type": "markdown",
   "id": "ae5de8c5",
   "metadata": {},
   "source": [
    "**Answer (questions 7 and 8):** [ADD YOUR ANSWER HERE]"
   ]
  },
  {
   "cell_type": "code",
   "execution_count": null,
   "id": "fcd44858",
   "metadata": {},
   "outputs": [],
   "source": [
    "#ADD CODE HERE"
   ]
  },
  {
   "cell_type": "markdown",
   "id": "d1209084",
   "metadata": {},
   "source": [
    "### 8) **Your task**: Building a residual neural network\n",
    "\n",
    "Build and train a residual neural network (https://en.wikipedia.org/wiki/Residual_neural_network#:~:text=A%20residual%20neural%20network%20(also,reference%20to%20the%20layer%20inputs.) and explain why this model may potentially work well for the Dubins car. The goal of this section is to present another type of NN structure, as well as allow you to explore the Pytorch framework."
   ]
  },
  {
   "cell_type": "code",
   "execution_count": null,
   "id": "c794c116",
   "metadata": {},
   "outputs": [],
   "source": [
    "#ADD CODE HERE"
   ]
  }
 ],
 "metadata": {
  "kernelspec": {
   "display_name": "Python 3 (ipykernel)",
   "language": "python",
   "name": "python3"
  },
  "language_info": {
   "codemirror_mode": {
    "name": "ipython",
    "version": 3
   },
   "file_extension": ".py",
   "mimetype": "text/x-python",
   "name": "python",
   "nbconvert_exporter": "python",
   "pygments_lexer": "ipython3",
   "version": "3.11.4"
  }
 },
 "nbformat": 4,
 "nbformat_minor": 5
}
